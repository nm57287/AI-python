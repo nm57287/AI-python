{
  "nbformat": 4,
  "nbformat_minor": 0,
  "metadata": {
    "colab": {
      "name": "방과후10_21002.ipynb",
      "provenance": [],
      "authorship_tag": "ABX9TyMvf8HtPw+ZshZSXIky/5At",
      "include_colab_link": true
    },
    "kernelspec": {
      "name": "python3",
      "display_name": "Python 3"
    }
  },
  "cells": [
    {
      "cell_type": "markdown",
      "metadata": {
        "id": "view-in-github",
        "colab_type": "text"
      },
      "source": [
        "<a href=\"https://colab.research.google.com/github/nm57287/AI-python/blob/master/%EB%B0%A9%EA%B3%BC%ED%9B%8410_21002.ipynb\" target=\"_parent\"><img src=\"https://colab.research.google.com/assets/colab-badge.svg\" alt=\"Open In Colab\"/></a>"
      ]
    },
    {
      "cell_type": "code",
      "metadata": {
        "id": "X22pL2MMBZOe",
        "colab_type": "code",
        "colab": {
          "base_uri": "https://localhost:8080/",
          "height": 35
        },
        "outputId": "096dfca5-eb4b-42f2-fb9f-1a8913a7d299"
      },
      "source": [
        "print(\"hello git hub\")"
      ],
      "execution_count": 1,
      "outputs": [
        {
          "output_type": "stream",
          "text": [
            "hello git hub\n"
          ],
          "name": "stdout"
        }
      ]
    }
  ]
}